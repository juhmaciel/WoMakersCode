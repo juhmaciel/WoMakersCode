{
  "nbformat": 4,
  "nbformat_minor": 0,
  "metadata": {
    "colab": {
      "provenance": [],
      "include_colab_link": true
    },
    "kernelspec": {
      "name": "python3",
      "display_name": "Python 3"
    },
    "language_info": {
      "name": "python"
    }
  },
  "cells": [
    {
      "cell_type": "markdown",
      "metadata": {
        "id": "view-in-github",
        "colab_type": "text"
      },
      "source": [
        "<a href=\"https://colab.research.google.com/github/juhmaciel/WoMakersCode/blob/Bootcamp-Data-Analytics/Juliana_Maciel_WoMakersCode_Bootcamp_Data_Analytics.ipynb\" target=\"_parent\"><img src=\"https://colab.research.google.com/assets/colab-badge.svg\" alt=\"Open In Colab\"/></a>"
      ]
    },
    {
      "cell_type": "markdown",
      "source": [
        "DESAFIO 1\n",
        "\n",
        "Crie um programa que solicita ao usuário que insira três notas (valores de 0 a 10) e, em seguida, calcule e exiba a média dessas notas.\n",
        "\n",
        "Além disso, informe ao usuário se ele foi aprovado ou reprovado com base na média das notas, considerando a média mínima de aprovação como 6."
      ],
      "metadata": {
        "id": "sdBUCCdzeef3"
      }
    },
    {
      "cell_type": "code",
      "source": [
        "nota1 = float(input(\"Digite a primeira nota: \"))\n",
        "nota2 = float(input(\"Digite a segunda nota: \"))\n",
        "nota3 = float(input(\"Digite a terceira nota: \"))\n",
        "\n",
        "media = (nota1 + nota2 + nota3) / 3\n",
        "\n",
        "print(\"Sua média é:\", media)\n",
        "\n",
        "if media >= 6:\n",
        "    print(\"Você foi aprovado!\")\n",
        "else:\n",
        "    print(\"Você foi reprovado.\")"
      ],
      "metadata": {
        "id": "j16D0tJ4evJ-"
      },
      "execution_count": null,
      "outputs": []
    },
    {
      "cell_type": "markdown",
      "source": [
        "DESAFIO 2\n",
        "\n",
        "Crie um programa que solicita ao usuário que insira um número inteiro e, em seguida, verifica se o número é par ou ímpar.\n",
        "\n",
        "O programa deve exibir uma mensagem indicando se o número é par ou ímpar."
      ],
      "metadata": {
        "id": "ClKDF5t4gEyu"
      }
    },
    {
      "cell_type": "code",
      "source": [
        "numero = int(input(\"Digite um número inteiro: \"))\n",
        "\n",
        "if numero % 2 == 0:\n",
        "    print(\"O número é par.\")\n",
        "else:\n",
        "    print(\"O número é ímpar.\")"
      ],
      "metadata": {
        "id": "GWkFk92kfuiO"
      },
      "execution_count": null,
      "outputs": []
    },
    {
      "cell_type": "markdown",
      "source": [
        "DESAFIO 3\n",
        "\n",
        "Crie um programa que verifica se uma palavra fornecida pelo usuário é um palíndromo ou não.\n",
        "\n",
        "(Um palíndromo é uma palavra que é lida da mesma forma tanto da esquerda para a direita quanto da direita para a esquerda.)"
      ],
      "metadata": {
        "id": "MmsZIAj-e0NX"
      }
    },
    {
      "cell_type": "code",
      "source": [
        "palavra = input(\"Digite uma palavra: \")\n",
        "palavra_invertida = palavra[::-1]\n",
        "\n",
        "if palavra == palavra_invertida:\n",
        "    print(\"A palavra é um palíndromo.\")\n",
        "else:\n",
        "    print(\"A palavra não é um palíndromo.\")"
      ],
      "metadata": {
        "id": "PobFqQqafLNj"
      },
      "execution_count": null,
      "outputs": []
    },
    {
      "cell_type": "markdown",
      "source": [
        "DESAFIO 4\n",
        "\n",
        "Crie um programa que solicita ao usuário que insira um número inteiro positivo e, em seguida, calcula e exibe o fatorial desse número.\n",
        "\n",
        "(O fatorial de um número é o produto de todos os números inteiros positivos de 1 até o próprio número.)"
      ],
      "metadata": {
        "id": "9WPRqUfIgLQK"
      }
    },
    {
      "cell_type": "code",
      "source": [
        "numero = int(input(\"Digite um número inteiro positivo: \"))\n",
        "\n",
        "if numero < 0:\n",
        "    print(\"O número deve ser positivo.\")\n",
        "else:\n",
        "    fatorial = 1\n",
        "    for i in range(1, numero + 1):\n",
        "        fatorial *= i\n",
        "    print(f\"O fatorial de {numero} é {fatorial}.\")"
      ],
      "metadata": {
        "id": "B3VE36bRgJWu"
      },
      "execution_count": null,
      "outputs": []
    },
    {
      "cell_type": "markdown",
      "source": [
        "DESAFIO 5\n",
        "\n",
        "Crie um programa que permita ao usuário gerenciar suas tarefas diárias. O programa deve oferecer as seguintes funcionalidades:\n",
        "\n",
        "*   Adicionar uma nova tarefa;\n",
        "*   Visualizar todas as tarefas;\n",
        "*   Marcar uma tarefa como concluída;\n",
        "*   Remover uma tarefa;\n",
        "*   Sair do programa.\n",
        "\n",
        "(Você pode implementar essas funcionalidades usando listas para armazenar as tarefas e estruturas de controle como loops e condicionais para interagir com o usuário.)"
      ],
      "metadata": {
        "id": "dLmeFEi2fO9f"
      }
    },
    {
      "cell_type": "code",
      "source": [
        "tarefas = []\n",
        "\n",
        "while True:\n",
        "    print(\"\\nGerenciador de Tarefas\")\n",
        "    print(\"1. Adicionar uma nova tarefa\")\n",
        "    print(\"2. Visualizar todas as tarefas\")\n",
        "    print(\"3. Marcar uma tarefa como concluída\")\n",
        "    print(\"4. Remover uma tarefa\")\n",
        "    print(\"5. Sair do programa\")\n",
        "\n",
        "    opcao = int(input(\"Escolha uma opção: \"))\n",
        "\n",
        "    if opcao == 1:\n",
        "        tarefa = input(\"Digite a tarefa: \")\n",
        "        tarefas.append(tarefa)\n",
        "        print(\"Tarefa adicionada com sucesso.\")\n",
        "    elif opcao == 2:\n",
        "        if len(tarefas) == 0:\n",
        "            print(\"Não há tarefas para visualizar.\")\n",
        "        else:\n",
        "            print(\"Tarefas:\")\n",
        "            for i, tarefa in enumerate(tarefas, start=1):\n",
        "                print(f\"{i}. {tarefa}\")\n",
        "    elif opcao == 3:\n",
        "        if len(tarefas) == 0:\n",
        "            print(\"Não há tarefas para marcar como concluídas.\")\n",
        "        else:\n",
        "            indice = int(input(\"Digite o número da tarefa a ser marcada como concluída: \"))\n",
        "            if indice < 1 or indice > len(tarefas):\n",
        "                print(\"Número de tarefa inválido.\")\n",
        "            else:\n",
        "                tarefa_concluida = tarefas.pop(indice - 1)\n",
        "                print(f\"A tarefa '{tarefa_concluida}' foi marcada como concluída.\")\n",
        "    elif opcao == 4:\n",
        "        if len(tarefas) == 0:\n",
        "            print(\"Não há tarefas para remover.\")\n",
        "        else:\n",
        "            indice = int(input(\"Digite o número da tarefa a ser removida: \"))\n",
        "            if indice < 1 or indice > len(tarefas):\n",
        "                print(\"Número de tarefa inválido.\")\n",
        "            else:\n",
        "                tarefa_removida = tarefas.pop(indice - 1)\n",
        "                print(f\"A tarefa '{tarefa_removida}' foi removida.\")\n",
        "    elif opcao == 5:\n",
        "        print(\"Saindo do programa...\")\n",
        "        break\n",
        "    else:\n",
        "        print(\"Opção inválida. Tente novamente.\")"
      ],
      "metadata": {
        "id": "8oExqSgagGzn"
      },
      "execution_count": null,
      "outputs": []
    }
  ]
}